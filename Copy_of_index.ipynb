{
  "cells": [
    {
      "cell_type": "markdown",
      "metadata": {
        "id": "view-in-github",
        "colab_type": "text"
      },
      "source": [
        "<a href=\"https://colab.research.google.com/github/rcauvy/Crown_of_Thorns_Starfish_Project/blob/master/Copy_of_index.ipynb\" target=\"_parent\"><img src=\"https://colab.research.google.com/assets/colab-badge.svg\" alt=\"Open In Colab\"/></a>"
      ]
    },
    {
      "cell_type": "markdown",
      "metadata": {
        "id": "hHZSySO4ToNN"
      },
      "source": [
        "# Crown of Thorns Starfish Data Science Project"
      ]
    },
    {
      "cell_type": "markdown",
      "metadata": {
        "id": "D-FB7Wi_ToNQ"
      },
      "source": [
        "* Name: Robert Cauvy\n",
        "* Email: rcauvy@gmail.com\n"
      ]
    },
    {
      "cell_type": "markdown",
      "metadata": {
        "id": "2pUU0YxSToNR"
      },
      "source": [
        "## TABLE OF CONTENTS "
      ]
    },
    {
      "cell_type": "markdown",
      "metadata": {
        "id": "X_hS8S-XToNT"
      },
      "source": [
        "\n",
        "- **[Introduction](#INTRODUCTION)<br>**\n",
        "- **[OBTAIN](#OBTAIN)**<br>\n",
        "- **[SCRUB](#SCRUB)**<br>\n",
        "- **[EXPLORE](#EXPLORE)**<br>\n",
        "- **[MODEL](#MODEL)**<br>\n",
        "- **[iNTERPRET](#iNTERPRET)**<br>\n",
        "- **[Conclusions/Recommendations](#CONCLUSIONS-&-RECOMMENDATIONS)<br>**\n",
        "___"
      ]
    },
    {
      "cell_type": "markdown",
      "metadata": {
        "id": "w9RcaFbDToNU"
      },
      "source": [
        "# INTRODUCTION"
      ]
    },
    {
      "cell_type": "markdown",
      "metadata": {
        "id": "obnB06MtToNV"
      },
      "source": [
        "> Explain the point of your project and what question you are trying to answer with your modeling.\n",
        "\n"
      ]
    },
    {
      "cell_type": "markdown",
      "metadata": {
        "id": "RdJ3lcOhToNW"
      },
      "source": [
        "# OBTAIN"
      ]
    },
    {
      "cell_type": "code",
      "execution_count": null,
      "metadata": {
        "id": "MXkuNMuKToNY"
      },
      "outputs": [],
      "source": [
        ""
      ]
    },
    {
      "cell_type": "markdown",
      "metadata": {
        "id": "UL202_-jToNa"
      },
      "source": [
        "# SCRUB"
      ]
    },
    {
      "cell_type": "code",
      "execution_count": null,
      "metadata": {
        "id": "jfZek_whToNa"
      },
      "outputs": [],
      "source": [
        ""
      ]
    },
    {
      "cell_type": "markdown",
      "metadata": {
        "id": "76gTd_8iToNb"
      },
      "source": [
        "# EXPLORE"
      ]
    },
    {
      "cell_type": "code",
      "execution_count": null,
      "metadata": {
        "id": "PaLXSIxVToNc"
      },
      "outputs": [],
      "source": [
        ""
      ]
    },
    {
      "cell_type": "markdown",
      "metadata": {
        "id": "5f8ww4VaToNc"
      },
      "source": [
        "# MODEL"
      ]
    },
    {
      "cell_type": "code",
      "execution_count": null,
      "metadata": {
        "id": "-Q1E4F4jToNd"
      },
      "outputs": [],
      "source": [
        ""
      ]
    },
    {
      "cell_type": "markdown",
      "metadata": {
        "id": "4zPu3n0gToNd"
      },
      "source": [
        "# iNTERPRET"
      ]
    },
    {
      "cell_type": "code",
      "execution_count": null,
      "metadata": {
        "id": "9XMeIVklToNe"
      },
      "outputs": [],
      "source": [
        ""
      ]
    },
    {
      "cell_type": "markdown",
      "metadata": {
        "id": "1n1k1XIPToNe"
      },
      "source": [
        "# CONCLUSIONS & RECOMMENDATIONS"
      ]
    },
    {
      "cell_type": "markdown",
      "metadata": {
        "id": "YdXPlBxwToNf"
      },
      "source": [
        "> Summarize your conclusions and bullet-point your list of recommendations, which are based on your modeling results."
      ]
    },
    {
      "source": [
        "# TO DO/FUTURE WORK"
      ],
      "cell_type": "markdown",
      "metadata": {
        "id": "mo1-h-JcToNf"
      }
    },
    {
      "source": [
        "- "
      ],
      "cell_type": "markdown",
      "metadata": {
        "id": "rTYHgCe3ToNg"
      }
    },
    {
      "cell_type": "code",
      "execution_count": null,
      "metadata": {
        "id": "ADGwcnS3ToNg"
      },
      "outputs": [],
      "source": [
        ""
      ]
    }
  ],
  "metadata": {
    "kernelspec": {
      "display_name": "learn-env",
      "language": "python",
      "name": "learn-env"
    },
    "language_info": {
      "codemirror_mode": {
        "name": "ipython",
        "version": 3
      },
      "file_extension": ".py",
      "mimetype": "text/x-python",
      "name": "python",
      "nbconvert_exporter": "python",
      "pygments_lexer": "ipython3",
      "version": "3.6.11-final"
    },
    "toc": {
      "base_numbering": 1,
      "nav_menu": {},
      "number_sections": false,
      "sideBar": true,
      "skip_h1_title": false,
      "title_cell": "Table of Contents",
      "title_sidebar": "Contents",
      "toc_cell": false,
      "toc_position": {},
      "toc_section_display": true,
      "toc_window_display": true
    },
    "varInspector": {
      "cols": {
        "lenName": 16,
        "lenType": 16,
        "lenVar": 40
      },
      "kernels_config": {
        "python": {
          "delete_cmd_postfix": "",
          "delete_cmd_prefix": "del ",
          "library": "var_list.py",
          "varRefreshCmd": "print(var_dic_list())"
        },
        "r": {
          "delete_cmd_postfix": ") ",
          "delete_cmd_prefix": "rm(",
          "library": "var_list.r",
          "varRefreshCmd": "cat(var_dic_list()) "
        }
      },
      "types_to_exclude": [
        "module",
        "function",
        "builtin_function_or_method",
        "instance",
        "_Feature"
      ],
      "window_display": false
    },
    "colab": {
      "name": "Copy of index.ipynb",
      "provenance": [],
      "include_colab_link": true
    }
  },
  "nbformat": 4,
  "nbformat_minor": 0
}